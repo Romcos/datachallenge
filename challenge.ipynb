{
 "cells": [
  {
   "cell_type": "code",
   "execution_count": 41,
   "id": "ad9eecfe-2acf-4b74-94cf-44290a2ce55f",
   "metadata": {},
   "outputs": [],
   "source": [
    "import pandas as pd\n",
    "import numpy as np\n",
    "import matplotlib.pyplot as plt"
   ]
  },
  {
   "cell_type": "code",
   "execution_count": 15,
   "id": "f1ee997f-1ad6-494e-8861-9d575163382f",
   "metadata": {},
   "outputs": [],
   "source": [
    "dfX = pd.read_csv(\"X_train.csv\")"
   ]
  },
  {
   "cell_type": "code",
   "execution_count": 16,
   "id": "5ca344fc-4ab4-4c16-952a-7eb14d2e5423",
   "metadata": {},
   "outputs": [],
   "source": [
    "dfy = pd.read_csv(\"y_train.csv\")"
   ]
  },
  {
   "cell_type": "markdown",
   "id": "bfbd572a-acfb-4e3f-a935-fb5cd4d330b8",
   "metadata": {},
   "source": [
    "## Learning More About the Data"
   ]
  },
  {
   "cell_type": "code",
   "execution_count": 27,
   "id": "0431d9f2-4b2e-47bf-aee7-90ddf7a91867",
   "metadata": {},
   "outputs": [],
   "source": [
    "cols_log = [\"market_cap\", \"employees\", \"revenue\", \"scope_1\", \"scope_2\", \"scope_3\", \"waste_production\", \"waste_recycling\", \"water_consumption\", \"water_withdrawal\",\"energy_consumption\", \"hours_of_training\",\"legal_costs_paid_for_controversies\",\"ceo_compensation\"]\n",
    "cols_oth = [\"anonimized_id\", \"company_id\",\"year\",\"region\",\"headquarters_country\",\"industry\",\"gender_pay_gap\",\"independent_board_members_percentage\"]"
   ]
  },
  {
   "cell_type": "code",
   "execution_count": 24,
   "id": "4f5f52f6-81f4-4072-abcc-8a9855294a0a",
   "metadata": {},
   "outputs": [
    {
     "data": {
      "text/plain": [
       "Index(['Unnamed: 0', 'anonimized_id', 'company_id', 'year', 'region',\n",
       "       'headquarters_country', 'industry', 'market_cap', 'employees',\n",
       "       'revenue', 'scope_1', 'scope_2', 'scope_3', 'waste_production',\n",
       "       'waste_recycling', 'water_consumption', 'water_withdrawal',\n",
       "       'energy_consumption', 'hours_of_training', 'gender_pay_gap',\n",
       "       'independent_board_members_percentage',\n",
       "       'legal_costs_paid_for_controversies', 'ceo_compensation'],\n",
       "      dtype='object')"
      ]
     },
     "execution_count": 24,
     "metadata": {},
     "output_type": "execute_result"
    }
   ],
   "source": [
    "dfX.columns"
   ]
  },
  {
   "cell_type": "code",
   "execution_count": 21,
   "id": "65aa4af2-1b2a-4f47-b5b4-e1b2331d9d1d",
   "metadata": {},
   "outputs": [
    {
     "data": {
      "text/html": [
       "<div>\n",
       "<style scoped>\n",
       "    .dataframe tbody tr th:only-of-type {\n",
       "        vertical-align: middle;\n",
       "    }\n",
       "\n",
       "    .dataframe tbody tr th {\n",
       "        vertical-align: top;\n",
       "    }\n",
       "\n",
       "    .dataframe thead th {\n",
       "        text-align: right;\n",
       "    }\n",
       "</style>\n",
       "<table border=\"1\" class=\"dataframe\">\n",
       "  <thead>\n",
       "    <tr style=\"text-align: right;\">\n",
       "      <th></th>\n",
       "      <th>Unnamed: 0</th>\n",
       "      <th>year</th>\n",
       "      <th>market_cap</th>\n",
       "      <th>employees</th>\n",
       "      <th>revenue</th>\n",
       "      <th>scope_1</th>\n",
       "      <th>scope_2</th>\n",
       "      <th>scope_3</th>\n",
       "      <th>waste_production</th>\n",
       "      <th>waste_recycling</th>\n",
       "      <th>water_consumption</th>\n",
       "      <th>water_withdrawal</th>\n",
       "      <th>energy_consumption</th>\n",
       "      <th>hours_of_training</th>\n",
       "      <th>gender_pay_gap</th>\n",
       "      <th>independent_board_members_percentage</th>\n",
       "      <th>legal_costs_paid_for_controversies</th>\n",
       "      <th>ceo_compensation</th>\n",
       "    </tr>\n",
       "  </thead>\n",
       "  <tbody>\n",
       "    <tr>\n",
       "      <th>count</th>\n",
       "      <td>15000.000000</td>\n",
       "      <td>15000.000000</td>\n",
       "      <td>1.500000e+04</td>\n",
       "      <td>10614.000000</td>\n",
       "      <td>12498.000000</td>\n",
       "      <td>4.275000e+03</td>\n",
       "      <td>4.260000e+03</td>\n",
       "      <td>3.900000e+03</td>\n",
       "      <td>1.918000e+03</td>\n",
       "      <td>1.310000e+03</td>\n",
       "      <td>3.601000e+03</td>\n",
       "      <td>3.366000e+03</td>\n",
       "      <td>2.270000e+03</td>\n",
       "      <td>1.590000e+03</td>\n",
       "      <td>543.000000</td>\n",
       "      <td>3174.000000</td>\n",
       "      <td>5192.000000</td>\n",
       "      <td>1.057000e+03</td>\n",
       "    </tr>\n",
       "    <tr>\n",
       "      <th>mean</th>\n",
       "      <td>7499.500000</td>\n",
       "      <td>2019.000000</td>\n",
       "      <td>8.423237e+03</td>\n",
       "      <td>16116.073111</td>\n",
       "      <td>4434.133569</td>\n",
       "      <td>1.745188e+06</td>\n",
       "      <td>5.531350e+05</td>\n",
       "      <td>1.639751e+07</td>\n",
       "      <td>6.324003e+06</td>\n",
       "      <td>1.658642e+05</td>\n",
       "      <td>3.085232e+07</td>\n",
       "      <td>1.641575e+08</td>\n",
       "      <td>5.865043e+07</td>\n",
       "      <td>1.082183e+06</td>\n",
       "      <td>2.792827</td>\n",
       "      <td>0.596120</td>\n",
       "      <td>38.822194</td>\n",
       "      <td>7.411698e+06</td>\n",
       "    </tr>\n",
       "    <tr>\n",
       "      <th>std</th>\n",
       "      <td>4330.271354</td>\n",
       "      <td>0.816524</td>\n",
       "      <td>4.987644e+04</td>\n",
       "      <td>42258.719275</td>\n",
       "      <td>15362.161446</td>\n",
       "      <td>1.306716e+07</td>\n",
       "      <td>8.772001e+06</td>\n",
       "      <td>3.881127e+08</td>\n",
       "      <td>7.914106e+07</td>\n",
       "      <td>9.802639e+05</td>\n",
       "      <td>9.725999e+08</td>\n",
       "      <td>2.557728e+09</td>\n",
       "      <td>1.748249e+09</td>\n",
       "      <td>5.886039e+06</td>\n",
       "      <td>6.508839</td>\n",
       "      <td>0.264003</td>\n",
       "      <td>319.484605</td>\n",
       "      <td>1.104098e+07</td>\n",
       "    </tr>\n",
       "    <tr>\n",
       "      <th>min</th>\n",
       "      <td>0.000000</td>\n",
       "      <td>2018.000000</td>\n",
       "      <td>3.656800e+02</td>\n",
       "      <td>1.000000</td>\n",
       "      <td>-8257.940000</td>\n",
       "      <td>0.000000e+00</td>\n",
       "      <td>0.000000e+00</td>\n",
       "      <td>0.000000e+00</td>\n",
       "      <td>0.000000e+00</td>\n",
       "      <td>0.000000e+00</td>\n",
       "      <td>0.000000e+00</td>\n",
       "      <td>0.000000e+00</td>\n",
       "      <td>2.777778e-03</td>\n",
       "      <td>8.000000e-01</td>\n",
       "      <td>-8.100000</td>\n",
       "      <td>0.000064</td>\n",
       "      <td>0.000000</td>\n",
       "      <td>9.768000e+03</td>\n",
       "    </tr>\n",
       "    <tr>\n",
       "      <th>25%</th>\n",
       "      <td>3749.750000</td>\n",
       "      <td>2018.000000</td>\n",
       "      <td>9.912200e+02</td>\n",
       "      <td>1500.000000</td>\n",
       "      <td>302.565000</td>\n",
       "      <td>1.056000e+03</td>\n",
       "      <td>3.001500e+03</td>\n",
       "      <td>2.752750e+03</td>\n",
       "      <td>3.860750e+03</td>\n",
       "      <td>1.949750e+03</td>\n",
       "      <td>1.120450e+05</td>\n",
       "      <td>2.169376e+05</td>\n",
       "      <td>1.217374e+05</td>\n",
       "      <td>1.252950e+04</td>\n",
       "      <td>0.796000</td>\n",
       "      <td>0.400000</td>\n",
       "      <td>0.000000</td>\n",
       "      <td>1.693000e+06</td>\n",
       "    </tr>\n",
       "    <tr>\n",
       "      <th>50%</th>\n",
       "      <td>7499.500000</td>\n",
       "      <td>2019.000000</td>\n",
       "      <td>1.889205e+03</td>\n",
       "      <td>4342.500000</td>\n",
       "      <td>885.225000</td>\n",
       "      <td>1.184500e+04</td>\n",
       "      <td>2.373950e+04</td>\n",
       "      <td>2.775050e+04</td>\n",
       "      <td>2.724550e+04</td>\n",
       "      <td>1.645050e+04</td>\n",
       "      <td>6.100000e+05</td>\n",
       "      <td>1.134632e+06</td>\n",
       "      <td>6.518394e+05</td>\n",
       "      <td>1.445640e+05</td>\n",
       "      <td>0.953200</td>\n",
       "      <td>0.607500</td>\n",
       "      <td>0.000000</td>\n",
       "      <td>3.826000e+06</td>\n",
       "    </tr>\n",
       "    <tr>\n",
       "      <th>75%</th>\n",
       "      <td>11249.250000</td>\n",
       "      <td>2020.000000</td>\n",
       "      <td>4.766880e+03</td>\n",
       "      <td>12792.750000</td>\n",
       "      <td>2936.880000</td>\n",
       "      <td>1.195165e+05</td>\n",
       "      <td>1.232912e+05</td>\n",
       "      <td>3.029490e+05</td>\n",
       "      <td>1.646960e+05</td>\n",
       "      <td>9.475000e+04</td>\n",
       "      <td>3.785000e+06</td>\n",
       "      <td>6.431954e+06</td>\n",
       "      <td>3.372001e+06</td>\n",
       "      <td>6.731735e+05</td>\n",
       "      <td>1.000000</td>\n",
       "      <td>0.830000</td>\n",
       "      <td>4.352500</td>\n",
       "      <td>9.833511e+06</td>\n",
       "    </tr>\n",
       "    <tr>\n",
       "      <th>max</th>\n",
       "      <td>14999.000000</td>\n",
       "      <td>2020.000000</td>\n",
       "      <td>2.251352e+06</td>\n",
       "      <td>969696.000000</td>\n",
       "      <td>410650.320000</td>\n",
       "      <td>3.394229e+08</td>\n",
       "      <td>3.394229e+08</td>\n",
       "      <td>1.679000e+10</td>\n",
       "      <td>2.264325e+09</td>\n",
       "      <td>2.277325e+07</td>\n",
       "      <td>5.794390e+10</td>\n",
       "      <td>7.200000e+10</td>\n",
       "      <td>8.167006e+10</td>\n",
       "      <td>1.482950e+08</td>\n",
       "      <td>40.000000</td>\n",
       "      <td>1.000000</td>\n",
       "      <td>14830.200000</td>\n",
       "      <td>2.111312e+08</td>\n",
       "    </tr>\n",
       "  </tbody>\n",
       "</table>\n",
       "</div>"
      ],
      "text/plain": [
       "         Unnamed: 0          year    market_cap      employees        revenue  \\\n",
       "count  15000.000000  15000.000000  1.500000e+04   10614.000000   12498.000000   \n",
       "mean    7499.500000   2019.000000  8.423237e+03   16116.073111    4434.133569   \n",
       "std     4330.271354      0.816524  4.987644e+04   42258.719275   15362.161446   \n",
       "min        0.000000   2018.000000  3.656800e+02       1.000000   -8257.940000   \n",
       "25%     3749.750000   2018.000000  9.912200e+02    1500.000000     302.565000   \n",
       "50%     7499.500000   2019.000000  1.889205e+03    4342.500000     885.225000   \n",
       "75%    11249.250000   2020.000000  4.766880e+03   12792.750000    2936.880000   \n",
       "max    14999.000000   2020.000000  2.251352e+06  969696.000000  410650.320000   \n",
       "\n",
       "            scope_1       scope_2       scope_3  waste_production  \\\n",
       "count  4.275000e+03  4.260000e+03  3.900000e+03      1.918000e+03   \n",
       "mean   1.745188e+06  5.531350e+05  1.639751e+07      6.324003e+06   \n",
       "std    1.306716e+07  8.772001e+06  3.881127e+08      7.914106e+07   \n",
       "min    0.000000e+00  0.000000e+00  0.000000e+00      0.000000e+00   \n",
       "25%    1.056000e+03  3.001500e+03  2.752750e+03      3.860750e+03   \n",
       "50%    1.184500e+04  2.373950e+04  2.775050e+04      2.724550e+04   \n",
       "75%    1.195165e+05  1.232912e+05  3.029490e+05      1.646960e+05   \n",
       "max    3.394229e+08  3.394229e+08  1.679000e+10      2.264325e+09   \n",
       "\n",
       "       waste_recycling  water_consumption  water_withdrawal  \\\n",
       "count     1.310000e+03       3.601000e+03      3.366000e+03   \n",
       "mean      1.658642e+05       3.085232e+07      1.641575e+08   \n",
       "std       9.802639e+05       9.725999e+08      2.557728e+09   \n",
       "min       0.000000e+00       0.000000e+00      0.000000e+00   \n",
       "25%       1.949750e+03       1.120450e+05      2.169376e+05   \n",
       "50%       1.645050e+04       6.100000e+05      1.134632e+06   \n",
       "75%       9.475000e+04       3.785000e+06      6.431954e+06   \n",
       "max       2.277325e+07       5.794390e+10      7.200000e+10   \n",
       "\n",
       "       energy_consumption  hours_of_training  gender_pay_gap  \\\n",
       "count        2.270000e+03       1.590000e+03      543.000000   \n",
       "mean         5.865043e+07       1.082183e+06        2.792827   \n",
       "std          1.748249e+09       5.886039e+06        6.508839   \n",
       "min          2.777778e-03       8.000000e-01       -8.100000   \n",
       "25%          1.217374e+05       1.252950e+04        0.796000   \n",
       "50%          6.518394e+05       1.445640e+05        0.953200   \n",
       "75%          3.372001e+06       6.731735e+05        1.000000   \n",
       "max          8.167006e+10       1.482950e+08       40.000000   \n",
       "\n",
       "       independent_board_members_percentage  \\\n",
       "count                           3174.000000   \n",
       "mean                               0.596120   \n",
       "std                                0.264003   \n",
       "min                                0.000064   \n",
       "25%                                0.400000   \n",
       "50%                                0.607500   \n",
       "75%                                0.830000   \n",
       "max                                1.000000   \n",
       "\n",
       "       legal_costs_paid_for_controversies  ceo_compensation  \n",
       "count                         5192.000000      1.057000e+03  \n",
       "mean                            38.822194      7.411698e+06  \n",
       "std                            319.484605      1.104098e+07  \n",
       "min                              0.000000      9.768000e+03  \n",
       "25%                              0.000000      1.693000e+06  \n",
       "50%                              0.000000      3.826000e+06  \n",
       "75%                              4.352500      9.833511e+06  \n",
       "max                          14830.200000      2.111312e+08  "
      ]
     },
     "execution_count": 21,
     "metadata": {},
     "output_type": "execute_result"
    }
   ],
   "source": [
    "dfX.describe()"
   ]
  },
  {
   "cell_type": "code",
   "execution_count": 18,
   "id": "842fa3fc-73fb-424e-ae7e-83a0e5959058",
   "metadata": {},
   "outputs": [
    {
     "data": {
      "text/html": [
       "<div>\n",
       "<style scoped>\n",
       "    .dataframe tbody tr th:only-of-type {\n",
       "        vertical-align: middle;\n",
       "    }\n",
       "\n",
       "    .dataframe tbody tr th {\n",
       "        vertical-align: top;\n",
       "    }\n",
       "\n",
       "    .dataframe thead th {\n",
       "        text-align: right;\n",
       "    }\n",
       "</style>\n",
       "<table border=\"1\" class=\"dataframe\">\n",
       "  <thead>\n",
       "    <tr style=\"text-align: right;\">\n",
       "      <th></th>\n",
       "      <th>Unnamed: 0</th>\n",
       "      <th>year</th>\n",
       "      <th>market_cap</th>\n",
       "      <th>employees</th>\n",
       "      <th>revenue</th>\n",
       "      <th>scope_1</th>\n",
       "      <th>scope_2</th>\n",
       "      <th>scope_3</th>\n",
       "      <th>waste_production</th>\n",
       "      <th>waste_recycling</th>\n",
       "      <th>water_consumption</th>\n",
       "      <th>water_withdrawal</th>\n",
       "      <th>energy_consumption</th>\n",
       "      <th>hours_of_training</th>\n",
       "      <th>gender_pay_gap</th>\n",
       "      <th>independent_board_members_percentage</th>\n",
       "      <th>legal_costs_paid_for_controversies</th>\n",
       "      <th>ceo_compensation</th>\n",
       "    </tr>\n",
       "  </thead>\n",
       "  <tbody>\n",
       "    <tr>\n",
       "      <th>count</th>\n",
       "      <td>15000.000000</td>\n",
       "      <td>15000.000000</td>\n",
       "      <td>1.500000e+04</td>\n",
       "      <td>12487.000000</td>\n",
       "      <td>14703.000000</td>\n",
       "      <td>5.029000e+03</td>\n",
       "      <td>5.011000e+03</td>\n",
       "      <td>4.588000e+03</td>\n",
       "      <td>2.256000e+03</td>\n",
       "      <td>1.541000e+03</td>\n",
       "      <td>4.236000e+03</td>\n",
       "      <td>3.960000e+03</td>\n",
       "      <td>2.670000e+03</td>\n",
       "      <td>1.870000e+03</td>\n",
       "      <td>643.000000</td>\n",
       "      <td>3734.000000</td>\n",
       "      <td>6108.000000</td>\n",
       "      <td>1.243000e+03</td>\n",
       "    </tr>\n",
       "    <tr>\n",
       "      <th>mean</th>\n",
       "      <td>7499.500000</td>\n",
       "      <td>2019.000000</td>\n",
       "      <td>8.423237e+03</td>\n",
       "      <td>16160.774485</td>\n",
       "      <td>4452.430458</td>\n",
       "      <td>1.628980e+06</td>\n",
       "      <td>5.290821e+05</td>\n",
       "      <td>1.507162e+07</td>\n",
       "      <td>7.685792e+06</td>\n",
       "      <td>1.937869e+05</td>\n",
       "      <td>4.643705e+07</td>\n",
       "      <td>1.681409e+08</td>\n",
       "      <td>5.168054e+07</td>\n",
       "      <td>1.061094e+06</td>\n",
       "      <td>2.868620</td>\n",
       "      <td>0.598596</td>\n",
       "      <td>39.341377</td>\n",
       "      <td>7.284989e+06</td>\n",
       "    </tr>\n",
       "    <tr>\n",
       "      <th>std</th>\n",
       "      <td>4330.271354</td>\n",
       "      <td>0.816524</td>\n",
       "      <td>4.987644e+04</td>\n",
       "      <td>42612.667732</td>\n",
       "      <td>15257.249667</td>\n",
       "      <td>1.257112e+07</td>\n",
       "      <td>8.165526e+06</td>\n",
       "      <td>3.592031e+08</td>\n",
       "      <td>9.388555e+07</td>\n",
       "      <td>1.187292e+06</td>\n",
       "      <td>1.246839e+09</td>\n",
       "      <td>2.481248e+09</td>\n",
       "      <td>1.612081e+09</td>\n",
       "      <td>5.506665e+06</td>\n",
       "      <td>6.587364</td>\n",
       "      <td>0.263864</td>\n",
       "      <td>311.673363</td>\n",
       "      <td>1.065159e+07</td>\n",
       "    </tr>\n",
       "    <tr>\n",
       "      <th>min</th>\n",
       "      <td>0.000000</td>\n",
       "      <td>2018.000000</td>\n",
       "      <td>3.656800e+02</td>\n",
       "      <td>1.000000</td>\n",
       "      <td>-8257.940000</td>\n",
       "      <td>0.000000e+00</td>\n",
       "      <td>0.000000e+00</td>\n",
       "      <td>0.000000e+00</td>\n",
       "      <td>0.000000e+00</td>\n",
       "      <td>0.000000e+00</td>\n",
       "      <td>0.000000e+00</td>\n",
       "      <td>0.000000e+00</td>\n",
       "      <td>2.777778e-03</td>\n",
       "      <td>0.000000e+00</td>\n",
       "      <td>-8.100000</td>\n",
       "      <td>0.000064</td>\n",
       "      <td>0.000000</td>\n",
       "      <td>9.768000e+03</td>\n",
       "    </tr>\n",
       "    <tr>\n",
       "      <th>25%</th>\n",
       "      <td>3749.750000</td>\n",
       "      <td>2018.000000</td>\n",
       "      <td>9.912200e+02</td>\n",
       "      <td>1500.000000</td>\n",
       "      <td>300.665000</td>\n",
       "      <td>1.020000e+03</td>\n",
       "      <td>2.935560e+03</td>\n",
       "      <td>2.752750e+03</td>\n",
       "      <td>4.089000e+03</td>\n",
       "      <td>2.059000e+03</td>\n",
       "      <td>1.116717e+05</td>\n",
       "      <td>2.206414e+05</td>\n",
       "      <td>1.209085e+05</td>\n",
       "      <td>1.460775e+04</td>\n",
       "      <td>0.798300</td>\n",
       "      <td>0.400000</td>\n",
       "      <td>0.000000</td>\n",
       "      <td>1.665600e+06</td>\n",
       "    </tr>\n",
       "    <tr>\n",
       "      <th>50%</th>\n",
       "      <td>7499.500000</td>\n",
       "      <td>2019.000000</td>\n",
       "      <td>1.889205e+03</td>\n",
       "      <td>4368.000000</td>\n",
       "      <td>890.190000</td>\n",
       "      <td>1.181700e+04</td>\n",
       "      <td>2.356100e+04</td>\n",
       "      <td>2.726000e+04</td>\n",
       "      <td>2.824395e+04</td>\n",
       "      <td>1.664700e+04</td>\n",
       "      <td>6.045725e+05</td>\n",
       "      <td>1.174083e+06</td>\n",
       "      <td>6.340690e+05</td>\n",
       "      <td>1.502130e+05</td>\n",
       "      <td>0.953200</td>\n",
       "      <td>0.615390</td>\n",
       "      <td>0.000000</td>\n",
       "      <td>3.806000e+06</td>\n",
       "    </tr>\n",
       "    <tr>\n",
       "      <th>75%</th>\n",
       "      <td>11249.250000</td>\n",
       "      <td>2020.000000</td>\n",
       "      <td>4.766880e+03</td>\n",
       "      <td>12907.000000</td>\n",
       "      <td>2960.310000</td>\n",
       "      <td>1.183000e+05</td>\n",
       "      <td>1.213235e+05</td>\n",
       "      <td>3.089282e+05</td>\n",
       "      <td>1.740860e+05</td>\n",
       "      <td>9.400000e+04</td>\n",
       "      <td>3.787000e+06</td>\n",
       "      <td>6.663092e+06</td>\n",
       "      <td>3.453723e+06</td>\n",
       "      <td>6.682020e+05</td>\n",
       "      <td>1.000000</td>\n",
       "      <td>0.833300</td>\n",
       "      <td>4.322500</td>\n",
       "      <td>9.771572e+06</td>\n",
       "    </tr>\n",
       "    <tr>\n",
       "      <th>max</th>\n",
       "      <td>14999.000000</td>\n",
       "      <td>2020.000000</td>\n",
       "      <td>2.251352e+06</td>\n",
       "      <td>969696.000000</td>\n",
       "      <td>410650.320000</td>\n",
       "      <td>3.394229e+08</td>\n",
       "      <td>3.394229e+08</td>\n",
       "      <td>1.679000e+10</td>\n",
       "      <td>2.461882e+09</td>\n",
       "      <td>2.487460e+07</td>\n",
       "      <td>5.794390e+10</td>\n",
       "      <td>7.200000e+10</td>\n",
       "      <td>8.167006e+10</td>\n",
       "      <td>1.482950e+08</td>\n",
       "      <td>40.000000</td>\n",
       "      <td>1.000000</td>\n",
       "      <td>14830.200000</td>\n",
       "      <td>2.111312e+08</td>\n",
       "    </tr>\n",
       "  </tbody>\n",
       "</table>\n",
       "</div>"
      ],
      "text/plain": [
       "         Unnamed: 0          year    market_cap      employees        revenue  \\\n",
       "count  15000.000000  15000.000000  1.500000e+04   12487.000000   14703.000000   \n",
       "mean    7499.500000   2019.000000  8.423237e+03   16160.774485    4452.430458   \n",
       "std     4330.271354      0.816524  4.987644e+04   42612.667732   15257.249667   \n",
       "min        0.000000   2018.000000  3.656800e+02       1.000000   -8257.940000   \n",
       "25%     3749.750000   2018.000000  9.912200e+02    1500.000000     300.665000   \n",
       "50%     7499.500000   2019.000000  1.889205e+03    4368.000000     890.190000   \n",
       "75%    11249.250000   2020.000000  4.766880e+03   12907.000000    2960.310000   \n",
       "max    14999.000000   2020.000000  2.251352e+06  969696.000000  410650.320000   \n",
       "\n",
       "            scope_1       scope_2       scope_3  waste_production  \\\n",
       "count  5.029000e+03  5.011000e+03  4.588000e+03      2.256000e+03   \n",
       "mean   1.628980e+06  5.290821e+05  1.507162e+07      7.685792e+06   \n",
       "std    1.257112e+07  8.165526e+06  3.592031e+08      9.388555e+07   \n",
       "min    0.000000e+00  0.000000e+00  0.000000e+00      0.000000e+00   \n",
       "25%    1.020000e+03  2.935560e+03  2.752750e+03      4.089000e+03   \n",
       "50%    1.181700e+04  2.356100e+04  2.726000e+04      2.824395e+04   \n",
       "75%    1.183000e+05  1.213235e+05  3.089282e+05      1.740860e+05   \n",
       "max    3.394229e+08  3.394229e+08  1.679000e+10      2.461882e+09   \n",
       "\n",
       "       waste_recycling  water_consumption  water_withdrawal  \\\n",
       "count     1.541000e+03       4.236000e+03      3.960000e+03   \n",
       "mean      1.937869e+05       4.643705e+07      1.681409e+08   \n",
       "std       1.187292e+06       1.246839e+09      2.481248e+09   \n",
       "min       0.000000e+00       0.000000e+00      0.000000e+00   \n",
       "25%       2.059000e+03       1.116717e+05      2.206414e+05   \n",
       "50%       1.664700e+04       6.045725e+05      1.174083e+06   \n",
       "75%       9.400000e+04       3.787000e+06      6.663092e+06   \n",
       "max       2.487460e+07       5.794390e+10      7.200000e+10   \n",
       "\n",
       "       energy_consumption  hours_of_training  gender_pay_gap  \\\n",
       "count        2.670000e+03       1.870000e+03      643.000000   \n",
       "mean         5.168054e+07       1.061094e+06        2.868620   \n",
       "std          1.612081e+09       5.506665e+06        6.587364   \n",
       "min          2.777778e-03       0.000000e+00       -8.100000   \n",
       "25%          1.209085e+05       1.460775e+04        0.798300   \n",
       "50%          6.340690e+05       1.502130e+05        0.953200   \n",
       "75%          3.453723e+06       6.682020e+05        1.000000   \n",
       "max          8.167006e+10       1.482950e+08       40.000000   \n",
       "\n",
       "       independent_board_members_percentage  \\\n",
       "count                           3734.000000   \n",
       "mean                               0.598596   \n",
       "std                                0.263864   \n",
       "min                                0.000064   \n",
       "25%                                0.400000   \n",
       "50%                                0.615390   \n",
       "75%                                0.833300   \n",
       "max                                1.000000   \n",
       "\n",
       "       legal_costs_paid_for_controversies  ceo_compensation  \n",
       "count                         6108.000000      1.243000e+03  \n",
       "mean                            39.341377      7.284989e+06  \n",
       "std                            311.673363      1.065159e+07  \n",
       "min                              0.000000      9.768000e+03  \n",
       "25%                              0.000000      1.665600e+06  \n",
       "50%                              0.000000      3.806000e+06  \n",
       "75%                              4.322500      9.771572e+06  \n",
       "max                          14830.200000      2.111312e+08  "
      ]
     },
     "execution_count": 18,
     "metadata": {},
     "output_type": "execute_result"
    }
   ],
   "source": [
    "dfy.describe()"
   ]
  },
  {
   "cell_type": "code",
   "execution_count": 7,
   "id": "b6d60f01-be3f-483d-9874-94d70aeba99d",
   "metadata": {},
   "outputs": [
    {
     "data": {
      "text/plain": [
       "Asia / Pacific                 8322\n",
       "United States and Canada       3339\n",
       "Europe                         2175\n",
       "Africa / Middle East            642\n",
       "Latin America and Caribbean     522\n",
       "Name: region, dtype: int64"
      ]
     },
     "execution_count": 7,
     "metadata": {},
     "output_type": "execute_result"
    }
   ],
   "source": [
    "dfX[\"region\"].value_counts()"
   ]
  },
  {
   "cell_type": "code",
   "execution_count": 8,
   "id": "e84610c7-49fa-4015-8304-874a231b1e06",
   "metadata": {},
   "outputs": [
    {
     "data": {
      "text/plain": [
       "2020    5000\n",
       "2019    5000\n",
       "2018    5000\n",
       "Name: year, dtype: int64"
      ]
     },
     "execution_count": 8,
     "metadata": {},
     "output_type": "execute_result"
    }
   ],
   "source": [
    "dfX[\"year\"].value_counts()"
   ]
  },
  {
   "cell_type": "code",
   "execution_count": 9,
   "id": "2b87a9e0-94ed-4957-91d0-0cfb1ca9cfb5",
   "metadata": {},
   "outputs": [
    {
     "data": {
      "text/plain": [
       "China                   4380\n",
       "United States           2988\n",
       "Japan                   1089\n",
       "India                    678\n",
       "United Kingdom           426\n",
       "                        ... \n",
       "Tanzania                   3\n",
       "Isle of Man                3\n",
       "Papua New Guinea           3\n",
       "Netherlands Antilles       3\n",
       "Bulgaria                   3\n",
       "Name: headquarters_country, Length: 85, dtype: int64"
      ]
     },
     "execution_count": 9,
     "metadata": {},
     "output_type": "execute_result"
    }
   ],
   "source": [
    "dfX[\"headquarters_country\"].value_counts()"
   ]
  },
  {
   "cell_type": "code",
   "execution_count": 10,
   "id": "3b905a55-2574-4ab1-b03c-28fd589056a7",
   "metadata": {},
   "outputs": [
    {
     "data": {
      "text/plain": [
       "Diversified Banks             546\n",
       "Pharmaceuticals               498\n",
       "Industrial Machinery          465\n",
       "Packaged Foods and Meats      405\n",
       "Application Software          378\n",
       "                             ... \n",
       "Multi-Sector Holdings          12\n",
       "Retail REITs                    6\n",
       "Housewares and Specialties      6\n",
       "Office REITs                    3\n",
       "Silver                          3\n",
       "Name: industry, Length: 151, dtype: int64"
      ]
     },
     "execution_count": 10,
     "metadata": {},
     "output_type": "execute_result"
    }
   ],
   "source": [
    "dfX[\"industry\"].value_counts()"
   ]
  },
  {
   "cell_type": "code",
   "execution_count": 11,
   "id": "75f866f9-5945-43e3-82a8-e4fdab780a3f",
   "metadata": {},
   "outputs": [
    {
     "data": {
      "text/plain": [
       "7411697.732412488"
      ]
     },
     "execution_count": 11,
     "metadata": {},
     "output_type": "execute_result"
    }
   ],
   "source": [
    "dfX[\"ceo_compensation\"].mean()"
   ]
  },
  {
   "cell_type": "code",
   "execution_count": 12,
   "id": "ea460c56-a69e-4a56-80be-07679a52d50a",
   "metadata": {},
   "outputs": [
    {
     "data": {
      "text/plain": [
       "Unnamed: 0                               0.000000\n",
       "anonimized_id                            0.000000\n",
       "company_id                               0.000000\n",
       "year                                     0.000000\n",
       "region                                   0.000000\n",
       "headquarters_country                     0.000000\n",
       "industry                                 0.000000\n",
       "market_cap                               0.000000\n",
       "revenue                                 16.680000\n",
       "employees                               29.240000\n",
       "legal_costs_paid_for_controversies      65.386667\n",
       "scope_1                                 71.500000\n",
       "scope_2                                 71.600000\n",
       "scope_3                                 74.000000\n",
       "water_consumption                       75.993333\n",
       "water_withdrawal                        77.560000\n",
       "independent_board_members_percentage    78.840000\n",
       "energy_consumption                      84.866667\n",
       "waste_production                        87.213333\n",
       "hours_of_training                       89.400000\n",
       "waste_recycling                         91.266667\n",
       "ceo_compensation                        92.953333\n",
       "gender_pay_gap                          96.380000\n",
       "dtype: float64"
      ]
     },
     "execution_count": 12,
     "metadata": {},
     "output_type": "execute_result"
    }
   ],
   "source": [
    "100*(dfX.isna().sum().sort_values()/len(dfX))"
   ]
  },
  {
   "cell_type": "code",
   "execution_count": 28,
   "id": "53b12b97-7662-45c2-ad7c-c7968fe7f08a",
   "metadata": {},
   "outputs": [],
   "source": [
    "dfX2 = dfX[cols_log]"
   ]
  },
  {
   "cell_type": "code",
   "execution_count": 220,
   "id": "0a4b5b9a-b0f7-4dd7-9d88-0cbeeaf43464",
   "metadata": {},
   "outputs": [
    {
     "name": "stderr",
     "output_type": "stream",
     "text": [
      "C:\\Users\\romai\\AppData\\Local\\Packages\\PythonSoftwareFoundation.Python.3.10_qbz5n2kfra8p0\\LocalCache\\local-packages\\Python310\\site-packages\\pandas\\core\\internals\\blocks.py:352: RuntimeWarning: divide by zero encountered in log10\n",
      "  result = func(self.values, **kwargs)\n",
      "C:\\Users\\romai\\AppData\\Local\\Packages\\PythonSoftwareFoundation.Python.3.10_qbz5n2kfra8p0\\LocalCache\\local-packages\\Python310\\site-packages\\pandas\\core\\internals\\blocks.py:352: RuntimeWarning: invalid value encountered in log10\n",
      "  result = func(self.values, **kwargs)\n"
     ]
    }
   ],
   "source": [
    "dfX2log = np.log10(dfX2)\n",
    "dfX2log.replace([-np.inf], 0, inplace=True)\n",
    "\n",
    "dfY2 = dfy[cols_log]\n",
    "dfY2log = np.log10(dfY2)\n",
    "dfY2log.replace([-np.inf], 0, inplace=True)"
   ]
  },
  {
   "cell_type": "code",
   "execution_count": 218,
   "id": "49ca5415-bdf4-4d4d-8f0d-ba6932c8db24",
   "metadata": {},
   "outputs": [
    {
     "data": {
      "text/html": [
       "<div>\n",
       "<style scoped>\n",
       "    .dataframe tbody tr th:only-of-type {\n",
       "        vertical-align: middle;\n",
       "    }\n",
       "\n",
       "    .dataframe tbody tr th {\n",
       "        vertical-align: top;\n",
       "    }\n",
       "\n",
       "    .dataframe thead th {\n",
       "        text-align: right;\n",
       "    }\n",
       "</style>\n",
       "<table border=\"1\" class=\"dataframe\">\n",
       "  <thead>\n",
       "    <tr style=\"text-align: right;\">\n",
       "      <th></th>\n",
       "      <th>market_cap</th>\n",
       "      <th>employees</th>\n",
       "      <th>revenue</th>\n",
       "      <th>scope_1</th>\n",
       "      <th>scope_2</th>\n",
       "      <th>scope_3</th>\n",
       "      <th>waste_production</th>\n",
       "      <th>waste_recycling</th>\n",
       "      <th>water_consumption</th>\n",
       "      <th>water_withdrawal</th>\n",
       "      <th>energy_consumption</th>\n",
       "      <th>hours_of_training</th>\n",
       "      <th>legal_costs_paid_for_controversies</th>\n",
       "      <th>ceo_compensation</th>\n",
       "    </tr>\n",
       "  </thead>\n",
       "  <tbody>\n",
       "    <tr>\n",
       "      <th>market_cap</th>\n",
       "      <td>1.000000</td>\n",
       "      <td>0.521012</td>\n",
       "      <td>0.590499</td>\n",
       "      <td>0.035023</td>\n",
       "      <td>0.061794</td>\n",
       "      <td>0.122111</td>\n",
       "      <td>0.149229</td>\n",
       "      <td>0.096132</td>\n",
       "      <td>0.256245</td>\n",
       "      <td>0.250937</td>\n",
       "      <td>0.268321</td>\n",
       "      <td>0.018564</td>\n",
       "      <td>0.372563</td>\n",
       "      <td>0.449320</td>\n",
       "    </tr>\n",
       "    <tr>\n",
       "      <th>employees</th>\n",
       "      <td>0.521012</td>\n",
       "      <td>1.000000</td>\n",
       "      <td>0.799912</td>\n",
       "      <td>0.223191</td>\n",
       "      <td>0.281071</td>\n",
       "      <td>0.259769</td>\n",
       "      <td>0.295522</td>\n",
       "      <td>0.333443</td>\n",
       "      <td>0.397555</td>\n",
       "      <td>0.406056</td>\n",
       "      <td>0.325813</td>\n",
       "      <td>0.107482</td>\n",
       "      <td>0.315976</td>\n",
       "      <td>0.298445</td>\n",
       "    </tr>\n",
       "    <tr>\n",
       "      <th>revenue</th>\n",
       "      <td>0.590499</td>\n",
       "      <td>0.799912</td>\n",
       "      <td>1.000000</td>\n",
       "      <td>0.262111</td>\n",
       "      <td>0.273869</td>\n",
       "      <td>0.368923</td>\n",
       "      <td>0.287492</td>\n",
       "      <td>0.362668</td>\n",
       "      <td>0.408719</td>\n",
       "      <td>0.456037</td>\n",
       "      <td>0.367953</td>\n",
       "      <td>0.015125</td>\n",
       "      <td>0.377027</td>\n",
       "      <td>0.362588</td>\n",
       "    </tr>\n",
       "    <tr>\n",
       "      <th>scope_1</th>\n",
       "      <td>0.035023</td>\n",
       "      <td>0.223191</td>\n",
       "      <td>0.262111</td>\n",
       "      <td>1.000000</td>\n",
       "      <td>0.763218</td>\n",
       "      <td>0.679873</td>\n",
       "      <td>0.299224</td>\n",
       "      <td>0.358725</td>\n",
       "      <td>0.528410</td>\n",
       "      <td>0.613585</td>\n",
       "      <td>0.389266</td>\n",
       "      <td>-0.226418</td>\n",
       "      <td>0.100563</td>\n",
       "      <td>0.122928</td>\n",
       "    </tr>\n",
       "    <tr>\n",
       "      <th>scope_2</th>\n",
       "      <td>0.061794</td>\n",
       "      <td>0.281071</td>\n",
       "      <td>0.273869</td>\n",
       "      <td>0.763218</td>\n",
       "      <td>1.000000</td>\n",
       "      <td>0.657427</td>\n",
       "      <td>0.202736</td>\n",
       "      <td>0.287638</td>\n",
       "      <td>0.414871</td>\n",
       "      <td>0.465653</td>\n",
       "      <td>0.260457</td>\n",
       "      <td>-0.227030</td>\n",
       "      <td>0.079474</td>\n",
       "      <td>0.218047</td>\n",
       "    </tr>\n",
       "    <tr>\n",
       "      <th>scope_3</th>\n",
       "      <td>0.122111</td>\n",
       "      <td>0.259769</td>\n",
       "      <td>0.368923</td>\n",
       "      <td>0.679873</td>\n",
       "      <td>0.657427</td>\n",
       "      <td>1.000000</td>\n",
       "      <td>0.263344</td>\n",
       "      <td>0.386521</td>\n",
       "      <td>0.478961</td>\n",
       "      <td>0.507205</td>\n",
       "      <td>0.345777</td>\n",
       "      <td>-0.212342</td>\n",
       "      <td>0.136309</td>\n",
       "      <td>0.095748</td>\n",
       "    </tr>\n",
       "    <tr>\n",
       "      <th>waste_production</th>\n",
       "      <td>0.149229</td>\n",
       "      <td>0.295522</td>\n",
       "      <td>0.287492</td>\n",
       "      <td>0.299224</td>\n",
       "      <td>0.202736</td>\n",
       "      <td>0.263344</td>\n",
       "      <td>1.000000</td>\n",
       "      <td>0.852519</td>\n",
       "      <td>0.503589</td>\n",
       "      <td>0.458821</td>\n",
       "      <td>0.661230</td>\n",
       "      <td>0.078921</td>\n",
       "      <td>0.190122</td>\n",
       "      <td>0.086316</td>\n",
       "    </tr>\n",
       "    <tr>\n",
       "      <th>waste_recycling</th>\n",
       "      <td>0.096132</td>\n",
       "      <td>0.333443</td>\n",
       "      <td>0.362668</td>\n",
       "      <td>0.358725</td>\n",
       "      <td>0.287638</td>\n",
       "      <td>0.386521</td>\n",
       "      <td>0.852519</td>\n",
       "      <td>1.000000</td>\n",
       "      <td>0.467208</td>\n",
       "      <td>0.476365</td>\n",
       "      <td>0.615057</td>\n",
       "      <td>0.023405</td>\n",
       "      <td>0.145651</td>\n",
       "      <td>0.034827</td>\n",
       "    </tr>\n",
       "    <tr>\n",
       "      <th>water_consumption</th>\n",
       "      <td>0.256245</td>\n",
       "      <td>0.397555</td>\n",
       "      <td>0.408719</td>\n",
       "      <td>0.528410</td>\n",
       "      <td>0.414871</td>\n",
       "      <td>0.478961</td>\n",
       "      <td>0.503589</td>\n",
       "      <td>0.467208</td>\n",
       "      <td>1.000000</td>\n",
       "      <td>0.769025</td>\n",
       "      <td>0.488501</td>\n",
       "      <td>-0.034091</td>\n",
       "      <td>0.167252</td>\n",
       "      <td>0.152004</td>\n",
       "    </tr>\n",
       "    <tr>\n",
       "      <th>water_withdrawal</th>\n",
       "      <td>0.250937</td>\n",
       "      <td>0.406056</td>\n",
       "      <td>0.456037</td>\n",
       "      <td>0.613585</td>\n",
       "      <td>0.465653</td>\n",
       "      <td>0.507205</td>\n",
       "      <td>0.458821</td>\n",
       "      <td>0.476365</td>\n",
       "      <td>0.769025</td>\n",
       "      <td>1.000000</td>\n",
       "      <td>0.484704</td>\n",
       "      <td>-0.062688</td>\n",
       "      <td>0.154609</td>\n",
       "      <td>0.084763</td>\n",
       "    </tr>\n",
       "    <tr>\n",
       "      <th>energy_consumption</th>\n",
       "      <td>0.268321</td>\n",
       "      <td>0.325813</td>\n",
       "      <td>0.367953</td>\n",
       "      <td>0.389266</td>\n",
       "      <td>0.260457</td>\n",
       "      <td>0.345777</td>\n",
       "      <td>0.661230</td>\n",
       "      <td>0.615057</td>\n",
       "      <td>0.488501</td>\n",
       "      <td>0.484704</td>\n",
       "      <td>1.000000</td>\n",
       "      <td>0.080765</td>\n",
       "      <td>0.198595</td>\n",
       "      <td>0.153998</td>\n",
       "    </tr>\n",
       "    <tr>\n",
       "      <th>hours_of_training</th>\n",
       "      <td>0.018564</td>\n",
       "      <td>0.107482</td>\n",
       "      <td>0.015125</td>\n",
       "      <td>-0.226418</td>\n",
       "      <td>-0.227030</td>\n",
       "      <td>-0.212342</td>\n",
       "      <td>0.078921</td>\n",
       "      <td>0.023405</td>\n",
       "      <td>-0.034091</td>\n",
       "      <td>-0.062688</td>\n",
       "      <td>0.080765</td>\n",
       "      <td>1.000000</td>\n",
       "      <td>-0.112990</td>\n",
       "      <td>-0.042727</td>\n",
       "    </tr>\n",
       "    <tr>\n",
       "      <th>legal_costs_paid_for_controversies</th>\n",
       "      <td>0.372563</td>\n",
       "      <td>0.315976</td>\n",
       "      <td>0.377027</td>\n",
       "      <td>0.100563</td>\n",
       "      <td>0.079474</td>\n",
       "      <td>0.136309</td>\n",
       "      <td>0.190122</td>\n",
       "      <td>0.145651</td>\n",
       "      <td>0.167252</td>\n",
       "      <td>0.154609</td>\n",
       "      <td>0.198595</td>\n",
       "      <td>-0.112990</td>\n",
       "      <td>1.000000</td>\n",
       "      <td>0.025884</td>\n",
       "    </tr>\n",
       "    <tr>\n",
       "      <th>ceo_compensation</th>\n",
       "      <td>0.449320</td>\n",
       "      <td>0.298445</td>\n",
       "      <td>0.362588</td>\n",
       "      <td>0.122928</td>\n",
       "      <td>0.218047</td>\n",
       "      <td>0.095748</td>\n",
       "      <td>0.086316</td>\n",
       "      <td>0.034827</td>\n",
       "      <td>0.152004</td>\n",
       "      <td>0.084763</td>\n",
       "      <td>0.153998</td>\n",
       "      <td>-0.042727</td>\n",
       "      <td>0.025884</td>\n",
       "      <td>1.000000</td>\n",
       "    </tr>\n",
       "  </tbody>\n",
       "</table>\n",
       "</div>"
      ],
      "text/plain": [
       "                                    market_cap  employees   revenue   scope_1  \\\n",
       "market_cap                            1.000000   0.521012  0.590499  0.035023   \n",
       "employees                             0.521012   1.000000  0.799912  0.223191   \n",
       "revenue                               0.590499   0.799912  1.000000  0.262111   \n",
       "scope_1                               0.035023   0.223191  0.262111  1.000000   \n",
       "scope_2                               0.061794   0.281071  0.273869  0.763218   \n",
       "scope_3                               0.122111   0.259769  0.368923  0.679873   \n",
       "waste_production                      0.149229   0.295522  0.287492  0.299224   \n",
       "waste_recycling                       0.096132   0.333443  0.362668  0.358725   \n",
       "water_consumption                     0.256245   0.397555  0.408719  0.528410   \n",
       "water_withdrawal                      0.250937   0.406056  0.456037  0.613585   \n",
       "energy_consumption                    0.268321   0.325813  0.367953  0.389266   \n",
       "hours_of_training                     0.018564   0.107482  0.015125 -0.226418   \n",
       "legal_costs_paid_for_controversies    0.372563   0.315976  0.377027  0.100563   \n",
       "ceo_compensation                      0.449320   0.298445  0.362588  0.122928   \n",
       "\n",
       "                                     scope_2   scope_3  waste_production  \\\n",
       "market_cap                          0.061794  0.122111          0.149229   \n",
       "employees                           0.281071  0.259769          0.295522   \n",
       "revenue                             0.273869  0.368923          0.287492   \n",
       "scope_1                             0.763218  0.679873          0.299224   \n",
       "scope_2                             1.000000  0.657427          0.202736   \n",
       "scope_3                             0.657427  1.000000          0.263344   \n",
       "waste_production                    0.202736  0.263344          1.000000   \n",
       "waste_recycling                     0.287638  0.386521          0.852519   \n",
       "water_consumption                   0.414871  0.478961          0.503589   \n",
       "water_withdrawal                    0.465653  0.507205          0.458821   \n",
       "energy_consumption                  0.260457  0.345777          0.661230   \n",
       "hours_of_training                  -0.227030 -0.212342          0.078921   \n",
       "legal_costs_paid_for_controversies  0.079474  0.136309          0.190122   \n",
       "ceo_compensation                    0.218047  0.095748          0.086316   \n",
       "\n",
       "                                    waste_recycling  water_consumption  \\\n",
       "market_cap                                 0.096132           0.256245   \n",
       "employees                                  0.333443           0.397555   \n",
       "revenue                                    0.362668           0.408719   \n",
       "scope_1                                    0.358725           0.528410   \n",
       "scope_2                                    0.287638           0.414871   \n",
       "scope_3                                    0.386521           0.478961   \n",
       "waste_production                           0.852519           0.503589   \n",
       "waste_recycling                            1.000000           0.467208   \n",
       "water_consumption                          0.467208           1.000000   \n",
       "water_withdrawal                           0.476365           0.769025   \n",
       "energy_consumption                         0.615057           0.488501   \n",
       "hours_of_training                          0.023405          -0.034091   \n",
       "legal_costs_paid_for_controversies         0.145651           0.167252   \n",
       "ceo_compensation                           0.034827           0.152004   \n",
       "\n",
       "                                    water_withdrawal  energy_consumption  \\\n",
       "market_cap                                  0.250937            0.268321   \n",
       "employees                                   0.406056            0.325813   \n",
       "revenue                                     0.456037            0.367953   \n",
       "scope_1                                     0.613585            0.389266   \n",
       "scope_2                                     0.465653            0.260457   \n",
       "scope_3                                     0.507205            0.345777   \n",
       "waste_production                            0.458821            0.661230   \n",
       "waste_recycling                             0.476365            0.615057   \n",
       "water_consumption                           0.769025            0.488501   \n",
       "water_withdrawal                            1.000000            0.484704   \n",
       "energy_consumption                          0.484704            1.000000   \n",
       "hours_of_training                          -0.062688            0.080765   \n",
       "legal_costs_paid_for_controversies          0.154609            0.198595   \n",
       "ceo_compensation                            0.084763            0.153998   \n",
       "\n",
       "                                    hours_of_training  \\\n",
       "market_cap                                   0.018564   \n",
       "employees                                    0.107482   \n",
       "revenue                                      0.015125   \n",
       "scope_1                                     -0.226418   \n",
       "scope_2                                     -0.227030   \n",
       "scope_3                                     -0.212342   \n",
       "waste_production                             0.078921   \n",
       "waste_recycling                              0.023405   \n",
       "water_consumption                           -0.034091   \n",
       "water_withdrawal                            -0.062688   \n",
       "energy_consumption                           0.080765   \n",
       "hours_of_training                            1.000000   \n",
       "legal_costs_paid_for_controversies          -0.112990   \n",
       "ceo_compensation                            -0.042727   \n",
       "\n",
       "                                    legal_costs_paid_for_controversies  \\\n",
       "market_cap                                                    0.372563   \n",
       "employees                                                     0.315976   \n",
       "revenue                                                       0.377027   \n",
       "scope_1                                                       0.100563   \n",
       "scope_2                                                       0.079474   \n",
       "scope_3                                                       0.136309   \n",
       "waste_production                                              0.190122   \n",
       "waste_recycling                                               0.145651   \n",
       "water_consumption                                             0.167252   \n",
       "water_withdrawal                                              0.154609   \n",
       "energy_consumption                                            0.198595   \n",
       "hours_of_training                                            -0.112990   \n",
       "legal_costs_paid_for_controversies                            1.000000   \n",
       "ceo_compensation                                              0.025884   \n",
       "\n",
       "                                    ceo_compensation  \n",
       "market_cap                                  0.449320  \n",
       "employees                                   0.298445  \n",
       "revenue                                     0.362588  \n",
       "scope_1                                     0.122928  \n",
       "scope_2                                     0.218047  \n",
       "scope_3                                     0.095748  \n",
       "waste_production                            0.086316  \n",
       "waste_recycling                             0.034827  \n",
       "water_consumption                           0.152004  \n",
       "water_withdrawal                            0.084763  \n",
       "energy_consumption                          0.153998  \n",
       "hours_of_training                          -0.042727  \n",
       "legal_costs_paid_for_controversies          0.025884  \n",
       "ceo_compensation                            1.000000  "
      ]
     },
     "execution_count": 218,
     "metadata": {},
     "output_type": "execute_result"
    }
   ],
   "source": [
    "dfX2log.corr()"
   ]
  },
  {
   "cell_type": "code",
   "execution_count": 133,
   "id": "0d170fc0-ec91-49b1-97d9-b1324dc2f5d2",
   "metadata": {},
   "outputs": [
    {
     "data": {
      "text/plain": [
       "Unnamed: 0                                                                         1\n",
       "anonimized_id                              c67ee84d-5cf4-4cd0-85b9-027ad082748f_2019\n",
       "company_id                                      c67ee84d-5cf4-4cd0-85b9-027ad082748f\n",
       "year                                                                            2019\n",
       "region                                                      United States and Canada\n",
       "headquarters_country                                                   United States\n",
       "industry                                Technology Hardware, Storage and Peripherals\n",
       "market_cap                                                                2251351.65\n",
       "employees                                                                        NaN\n",
       "revenue                                                                          NaN\n",
       "scope_1                                                                      52730.0\n",
       "scope_2                                                                     862127.0\n",
       "scope_3                                                                   24980000.0\n",
       "waste_production                                                            58395.94\n",
       "waste_recycling                                                             32806.41\n",
       "water_consumption                                                         4890151.52\n",
       "water_withdrawal                                                          4992424.24\n",
       "energy_consumption                                                         2889680.0\n",
       "hours_of_training                                                                NaN\n",
       "gender_pay_gap                                                                   NaN\n",
       "independent_board_members_percentage                                        0.008571\n",
       "legal_costs_paid_for_controversies                                              1.85\n",
       "ceo_compensation                                                          11555466.0\n",
       "Name: 1, dtype: object"
      ]
     },
     "execution_count": 133,
     "metadata": {},
     "output_type": "execute_result"
    }
   ],
   "source": [
    "dfX.iloc[1]"
   ]
  },
  {
   "cell_type": "code",
   "execution_count": null,
   "id": "170fd9d7-a447-4d7d-a465-5510389bb61c",
   "metadata": {},
   "outputs": [],
   "source": []
  },
  {
   "cell_type": "code",
   "execution_count": 134,
   "id": "faac97e1-fa06-40d2-b834-99f3b3b96b43",
   "metadata": {},
   "outputs": [
    {
     "data": {
      "text/html": [
       "<div>\n",
       "<style scoped>\n",
       "    .dataframe tbody tr th:only-of-type {\n",
       "        vertical-align: middle;\n",
       "    }\n",
       "\n",
       "    .dataframe tbody tr th {\n",
       "        vertical-align: top;\n",
       "    }\n",
       "\n",
       "    .dataframe thead th {\n",
       "        text-align: right;\n",
       "    }\n",
       "</style>\n",
       "<table border=\"1\" class=\"dataframe\">\n",
       "  <thead>\n",
       "    <tr style=\"text-align: right;\">\n",
       "      <th></th>\n",
       "      <th>employees</th>\n",
       "      <th>revenue</th>\n",
       "    </tr>\n",
       "  </thead>\n",
       "  <tbody>\n",
       "    <tr>\n",
       "      <th>3</th>\n",
       "      <td>4.824776</td>\n",
       "      <td>5.306933</td>\n",
       "    </tr>\n",
       "    <tr>\n",
       "      <th>4</th>\n",
       "      <td>4.897627</td>\n",
       "      <td>5.463674</td>\n",
       "    </tr>\n",
       "    <tr>\n",
       "      <th>5</th>\n",
       "      <td>4.883196</td>\n",
       "      <td>5.500753</td>\n",
       "    </tr>\n",
       "    <tr>\n",
       "      <th>6</th>\n",
       "      <td>4.849769</td>\n",
       "      <td>4.443191</td>\n",
       "    </tr>\n",
       "    <tr>\n",
       "      <th>7</th>\n",
       "      <td>4.681386</td>\n",
       "      <td>4.334930</td>\n",
       "    </tr>\n",
       "    <tr>\n",
       "      <th>...</th>\n",
       "      <td>...</td>\n",
       "      <td>...</td>\n",
       "    </tr>\n",
       "    <tr>\n",
       "      <th>14987</th>\n",
       "      <td>3.254548</td>\n",
       "      <td>2.584727</td>\n",
       "    </tr>\n",
       "    <tr>\n",
       "      <th>14994</th>\n",
       "      <td>3.817036</td>\n",
       "      <td>2.629797</td>\n",
       "    </tr>\n",
       "    <tr>\n",
       "      <th>14995</th>\n",
       "      <td>3.813114</td>\n",
       "      <td>2.620927</td>\n",
       "    </tr>\n",
       "    <tr>\n",
       "      <th>14996</th>\n",
       "      <td>3.790004</td>\n",
       "      <td>2.602689</td>\n",
       "    </tr>\n",
       "    <tr>\n",
       "      <th>14997</th>\n",
       "      <td>2.726727</td>\n",
       "      <td>1.703463</td>\n",
       "    </tr>\n",
       "  </tbody>\n",
       "</table>\n",
       "<p>8995 rows × 2 columns</p>\n",
       "</div>"
      ],
      "text/plain": [
       "       employees   revenue\n",
       "3       4.824776  5.306933\n",
       "4       4.897627  5.463674\n",
       "5       4.883196  5.500753\n",
       "6       4.849769  4.443191\n",
       "7       4.681386  4.334930\n",
       "...          ...       ...\n",
       "14987   3.254548  2.584727\n",
       "14994   3.817036  2.629797\n",
       "14995   3.813114  2.620927\n",
       "14996   3.790004  2.602689\n",
       "14997   2.726727  1.703463\n",
       "\n",
       "[8995 rows x 2 columns]"
      ]
     },
     "execution_count": 134,
     "metadata": {},
     "output_type": "execute_result"
    }
   ],
   "source": [
    "dfX2log[[\"employees\",\"revenue\"]].dropna()"
   ]
  },
  {
   "cell_type": "code",
   "execution_count": 135,
   "id": "792af28e-0a61-4c8a-b2ba-49ba722d5a90",
   "metadata": {},
   "outputs": [],
   "source": [
    "dfs = dfX2log[[\"waste_production\",\"water_consumption\"]].dropna()"
   ]
  },
  {
   "cell_type": "code",
   "execution_count": 136,
   "id": "d49b6180-b7a5-4270-ab05-3d1bb547747a",
   "metadata": {},
   "outputs": [
    {
     "data": {
      "text/plain": [
       "<matplotlib.collections.PathCollection at 0x1fda37a3f70>"
      ]
     },
     "execution_count": 136,
     "metadata": {},
     "output_type": "execute_result"
    },
    {
     "data": {
      "image/png": "[encoded data removed]",
      "text/plain": [
       "<Figure size 640x480 with 1 Axes>"
      ]
     },
     "metadata": {},
     "output_type": "display_data"
    }
   ],
   "source": [
    "plt.scatter(dfs[\"waste_production\"],dfs[\"water_consumption\"], alpha = 0.1)"
   ]
  },
  {
   "cell_type": "code",
   "execution_count": 141,
   "id": "4a97db12-25b9-4ebc-b516-7294e2698161",
   "metadata": {},
   "outputs": [],
   "source": [
    "mu = dfX2log.mean()"
   ]
  },
  {
   "cell_type": "code",
   "execution_count": 142,
   "id": "8b7e0114-b17d-442d-9349-01ec198d5811",
   "metadata": {},
   "outputs": [
    {
     "data": {
      "text/plain": [
       "market_cap                            3.405696\n",
       "employees                             3.626075\n",
       "revenue                               2.965542\n",
       "scope_1                               4.044388\n",
       "scope_2                               4.191739\n",
       "scope_3                               4.432580\n",
       "waste_production                      4.380813\n",
       "waste_recycling                       4.069378\n",
       "water_consumption                     5.794233\n",
       "water_withdrawal                      6.118045\n",
       "energy_consumption                    5.773081\n",
       "hours_of_training                     4.576073\n",
       "legal_costs_paid_for_controversies    0.390049\n",
       "ceo_compensation                      6.583105\n",
       "dtype: float64"
      ]
     },
     "execution_count": 142,
     "metadata": {},
     "output_type": "execute_result"
    }
   ],
   "source": [
    "mu"
   ]
  },
  {
   "cell_type": "code",
   "execution_count": 143,
   "id": "133ba562-692b-4107-bd2d-d6eb4d752e29",
   "metadata": {},
   "outputs": [],
   "source": [
    "Sigma = np.array(dfX2log.cov())"
   ]
  },
  {
   "cell_type": "code",
   "execution_count": 233,
   "id": "89d351ad-550c-4035-955f-8734cf6ad4df",
   "metadata": {},
   "outputs": [],
   "source": [
    "A = np.array(dfX2log)\n",
    "z  = A[12]"
   ]
  },
  {
   "cell_type": "code",
   "execution_count": 234,
   "id": "26eee139-859d-4da7-b954-932aa0511f25",
   "metadata": {},
   "outputs": [],
   "source": [
    "Aimp = np.copy(A)"
   ]
  },
  {
   "cell_type": "code",
   "execution_count": 190,
   "id": "b3f0c6a4-4525-4397-a87c-7ee03c4c4d4b",
   "metadata": {},
   "outputs": [],
   "source": [
    "y_indices = np.isnan(z)+np.isinf(z) #+ equivalent to \"or\"\n",
    "x_indices = np.logical_not(y_indices)\n",
    "\n",
    "y = z[y_indices]\n",
    "x = z[x_indices]\n",
    "\n",
    "Sigmaxx = Sigma[x_indices][:,x_indices]\n",
    "Sigmayx = Sigma[y_indices][:,x_indices]\n",
    "mux = mu[x_indices]\n",
    "muy = mu[y_indices]"
   ]
  },
  {
   "cell_type": "code",
   "execution_count": 191,
   "id": "f8456c1b-686a-4889-9984-41759840cf6e",
   "metadata": {},
   "outputs": [
    {
     "data": {
      "text/plain": [
       "scope_3              8.237857\n",
       "waste_production     5.632095\n",
       "waste_recycling      5.294110\n",
       "water_consumption    8.104391\n",
       "hours_of_training    4.163851\n",
       "dtype: float64"
      ]
     },
     "execution_count": 191,
     "metadata": {},
     "output_type": "execute_result"
    }
   ],
   "source": [
    "muy+Sigmayx.dot(np.linalg.inv(Sigmaxx)).dot(x-mux)"
   ]
  },
  {
   "cell_type": "code",
   "execution_count": 226,
   "id": "a97dfde5-5c05-4a0a-bc77-df0946a20889",
   "metadata": {},
   "outputs": [
    {
     "data": {
      "text/plain": [
       "array([8.23785729, 5.63209462, 5.29411038, 8.10439142, 4.16385054])"
      ]
     },
     "execution_count": 226,
     "metadata": {},
     "output_type": "execute_result"
    }
   ],
   "source": [
    "np.array(muy+Sigmayx.dot(np.linalg.inv(Sigmaxx)).dot(x-mux))"
   ]
  },
  {
   "cell_type": "code",
   "execution_count": 168,
   "id": "af27024e-b417-4f2a-9638-51e8941e6d28",
   "metadata": {},
   "outputs": [
    {
     "data": {
      "text/plain": [
       "359970.573529212"
      ]
     },
     "execution_count": 168,
     "metadata": {},
     "output_type": "execute_result"
    }
   ],
   "source": [
    "10**5.556267"
   ]
  },
  {
   "cell_type": "code",
   "execution_count": 237,
   "id": "57421863-f23e-4e4b-8fde-361e395a75be",
   "metadata": {},
   "outputs": [],
   "source": [
    "for i in range(len(A)):\n",
    "    z = A[i]\n",
    "    y_indices = np.isnan(z)+np.isinf(z) #+ equivalent to \"or\"\n",
    "    x_indices = np.logical_not(y_indices)\n",
    "\n",
    "    y = z[y_indices]\n",
    "    x = z[x_indices]\n",
    "\n",
    "    Sigmaxx = Sigma[x_indices][:,x_indices]\n",
    "    Sigmayx = Sigma[y_indices][:,x_indices]\n",
    "    mux = np.array(mu[x_indices])\n",
    "    muy = np.array(mu[y_indices])\n",
    "    \n",
    "    imputed = muy+Sigmayx.dot(np.linalg.inv(Sigmaxx)).dot(x-mux)\n",
    "    \n",
    "    \n",
    "    y_ind = 0\n",
    "    for j in range(len(z)):\n",
    "        if y_indices[j]:\n",
    "            Aimp[i,j] = imputed[y_ind]\n",
    "            y_ind+=1\n",
    "            \n",
    "    \n",
    "    "
   ]
  },
  {
   "cell_type": "code",
   "execution_count": 238,
   "id": "142c22eb-40ab-4822-8e7a-7c873869deef",
   "metadata": {},
   "outputs": [
    {
     "name": "stdout",
     "output_type": "stream",
     "text": [
      "[5.62434016 4.8573325  5.19913499 8.03342376 6.84509804        nan\n",
      "        nan        nan        nan 8.66275783 8.61978911        nan\n",
      " 0.         7.19421067] [5.62434016 4.8573325  5.19913499 8.03342376 6.84509804 8.23785729\n",
      " 5.63209462 5.29411038 8.10439142 8.66275783 8.61978911 4.16385054\n",
      " 0.         7.19421067]\n"
     ]
    }
   ],
   "source": [
    "print(A[12], Aimp[12])"
   ]
  },
  {
   "cell_type": "code",
   "execution_count": 82,
   "id": "2b784597-3683-4816-8a44-5592d90c8db2",
   "metadata": {},
   "outputs": [
    {
     "data": {
      "text/plain": [
       "False"
      ]
     },
     "execution_count": 82,
     "metadata": {},
     "output_type": "execute_result"
    }
   ],
   "source": [
    "x[1]==float(\"nan\")"
   ]
  },
  {
   "cell_type": "code",
   "execution_count": 81,
   "id": "eebc68d8-260c-4801-87c8-76a53b6b1050",
   "metadata": {},
   "outputs": [
    {
     "data": {
      "text/plain": [
       "nan"
      ]
     },
     "execution_count": 81,
     "metadata": {},
     "output_type": "execute_result"
    }
   ],
   "source": [
    "x[1]"
   ]
  },
  {
   "cell_type": "code",
   "execution_count": 83,
   "id": "170996b0-aaaa-4a6c-8c91-db746603c528",
   "metadata": {},
   "outputs": [
    {
     "data": {
      "text/plain": [
       "array([False,  True, False,  True,  True, False, False, False, False,\n",
       "       False, False,  True, False, False])"
      ]
     },
     "execution_count": 83,
     "metadata": {},
     "output_type": "execute_result"
    }
   ],
   "source": []
  },
  {
   "cell_type": "code",
   "execution_count": 85,
   "id": "f29babe6-cc57-4b62-9434-ae165c12003e",
   "metadata": {},
   "outputs": [
    {
     "data": {
      "text/plain": [
       "array([False,  True, False,  True,  True, False, False, False, False,\n",
       "       False, False,  True,  True, False])"
      ]
     },
     "execution_count": 85,
     "metadata": {},
     "output_type": "execute_result"
    }
   ],
   "source": [
    "np.isinf(x)+np.isnan(x)"
   ]
  },
  {
   "cell_type": "code",
   "execution_count": 90,
   "id": "9373b0dc-b199-4222-9642-cc7375dc7aee",
   "metadata": {},
   "outputs": [
    {
     "data": {
      "text/plain": [
       "array([ True, False,  True, False, False,  True,  True,  True,  True,\n",
       "        True,  True, False,  True,  True])"
      ]
     },
     "execution_count": 90,
     "metadata": {},
     "output_type": "execute_result"
    }
   ],
   "source": []
  },
  {
   "cell_type": "code",
   "execution_count": 171,
   "id": "6179354d-7c01-4568-9e3e-75c9153d7ac0",
   "metadata": {},
   "outputs": [
    {
     "data": {
      "text/plain": [
       "Unnamed: 0                                                                     12\n",
       "anonimized_id                           dd30cf33-74f4-4e0c-97f7-616923b123f0_2020\n",
       "company_id                                   dd30cf33-74f4-4e0c-97f7-616923b123f0\n",
       "year                                                                         2020\n",
       "region                                                   United States and Canada\n",
       "headquarters_country                                                United States\n",
       "industry                                                   Integrated Oil and Gas\n",
       "market_cap                                                              421056.29\n",
       "employees                                                                 72000.0\n",
       "revenue                                                                 158173.96\n",
       "scope_1                                                               108000000.0\n",
       "scope_2                                                                 7000000.0\n",
       "scope_3                                                                       NaN\n",
       "waste_production                                                              NaN\n",
       "waste_recycling                                                               NaN\n",
       "water_consumption                                                             NaN\n",
       "water_withdrawal                                                      460000000.0\n",
       "energy_consumption                                               416667000.033333\n",
       "hours_of_training                                                             NaN\n",
       "gender_pay_gap                                                                NaN\n",
       "independent_board_members_percentage                                          0.9\n",
       "legal_costs_paid_for_controversies                                            0.0\n",
       "ceo_compensation                                                       15639061.0\n",
       "Name: 12, dtype: object"
      ]
     },
     "execution_count": 171,
     "metadata": {},
     "output_type": "execute_result"
    }
   ],
   "source": [
    "dfX.iloc[12]"
   ]
  },
  {
   "cell_type": "code",
   "execution_count": 172,
   "id": "79419760-7948-45c4-88e2-f2fc23cdb46c",
   "metadata": {},
   "outputs": [
    {
     "data": {
      "text/plain": [
       "Unnamed: 0                                                                     12\n",
       "anonimized_id                           dd30cf33-74f4-4e0c-97f7-616923b123f0_2020\n",
       "company_id                                   dd30cf33-74f4-4e0c-97f7-616923b123f0\n",
       "year                                                                         2020\n",
       "region                                                   United States and Canada\n",
       "headquarters_country                                                United States\n",
       "industry                                                   Integrated Oil and Gas\n",
       "market_cap                                                              421056.29\n",
       "employees                                                                 72000.0\n",
       "revenue                                                                 158173.96\n",
       "scope_1                                                               108000000.0\n",
       "scope_2                                                                 7000000.0\n",
       "scope_3                                                               650000000.0\n",
       "waste_production                                                              NaN\n",
       "waste_recycling                                                               NaN\n",
       "water_consumption                                                    438158089.19\n",
       "water_withdrawal                                                      460000000.0\n",
       "energy_consumption                                               416667000.033333\n",
       "hours_of_training                                                             NaN\n",
       "gender_pay_gap                                                                NaN\n",
       "independent_board_members_percentage                                          0.9\n",
       "legal_costs_paid_for_controversies                                            0.0\n",
       "ceo_compensation                                                       15639061.0\n",
       "Name: 12, dtype: object"
      ]
     },
     "execution_count": 172,
     "metadata": {},
     "output_type": "execute_result"
    }
   ],
   "source": [
    "dfy.iloc[12]"
   ]
  },
  {
   "cell_type": "code",
   "execution_count": 257,
   "id": "cd971870-a7f5-470f-b408-21ce36b24a98",
   "metadata": {},
   "outputs": [
    {
     "name": "stderr",
     "output_type": "stream",
     "text": [
      "C:\\Users\\romai\\AppData\\Local\\Packages\\PythonSoftwareFoundation.Python.3.10_qbz5n2kfra8p0\\LocalCache\\local-packages\\Python310\\site-packages\\sklearn\\impute\\_iterative.py:713: ConvergenceWarning: [IterativeImputer] Early stopping criterion not reached.\n",
      "  warnings.warn(\n"
     ]
    },
    {
     "data": {
      "text/html": [
       "<style>#sk-container-id-2 {color: black;background-color: white;}#sk-container-id-2 pre{padding: 0;}#sk-container-id-2 div.sk-toggleable {background-color: white;}#sk-container-id-2 label.sk-toggleable__label {cursor: pointer;display: block;width: 100%;margin-bottom: 0;padding: 0.3em;box-sizing: border-box;text-align: center;}#sk-container-id-2 label.sk-toggleable__label-arrow:before {content: \"▸\";float: left;margin-right: 0.25em;color: #696969;}#sk-container-id-2 label.sk-toggleable__label-arrow:hover:before {color: black;}#sk-container-id-2 div.sk-estimator:hover label.sk-toggleable__label-arrow:before {color: black;}#sk-container-id-2 div.sk-toggleable__content {max-height: 0;max-width: 0;overflow: hidden;text-align: left;background-color: #f0f8ff;}#sk-container-id-2 div.sk-toggleable__content pre {margin: 0.2em;color: black;border-radius: 0.25em;background-color: #f0f8ff;}#sk-container-id-2 input.sk-toggleable__control:checked~div.sk-toggleable__content {max-height: 200px;max-width: 100%;overflow: auto;}#sk-container-id-2 input.sk-toggleable__control:checked~label.sk-toggleable__label-arrow:before {content: \"▾\";}#sk-container-id-2 div.sk-estimator input.sk-toggleable__control:checked~label.sk-toggleable__label {background-color: #d4ebff;}#sk-container-id-2 div.sk-label input.sk-toggleable__control:checked~label.sk-toggleable__label {background-color: #d4ebff;}#sk-container-id-2 input.sk-hidden--visually {border: 0;clip: rect(1px 1px 1px 1px);clip: rect(1px, 1px, 1px, 1px);height: 1px;margin: -1px;overflow: hidden;padding: 0;position: absolute;width: 1px;}#sk-container-id-2 div.sk-estimator {font-family: monospace;background-color: #f0f8ff;border: 1px dotted black;border-radius: 0.25em;box-sizing: border-box;margin-bottom: 0.5em;}#sk-container-id-2 div.sk-estimator:hover {background-color: #d4ebff;}#sk-container-id-2 div.sk-parallel-item::after {content: \"\";width: 100%;border-bottom: 1px solid gray;flex-grow: 1;}#sk-container-id-2 div.sk-label:hover label.sk-toggleable__label {background-color: #d4ebff;}#sk-container-id-2 div.sk-serial::before {content: \"\";position: absolute;border-left: 1px solid gray;box-sizing: border-box;top: 0;bottom: 0;left: 50%;z-index: 0;}#sk-container-id-2 div.sk-serial {display: flex;flex-direction: column;align-items: center;background-color: white;padding-right: 0.2em;padding-left: 0.2em;position: relative;}#sk-container-id-2 div.sk-item {position: relative;z-index: 1;}#sk-container-id-2 div.sk-parallel {display: flex;align-items: stretch;justify-content: center;background-color: white;position: relative;}#sk-container-id-2 div.sk-item::before, #sk-container-id-2 div.sk-parallel-item::before {content: \"\";position: absolute;border-left: 1px solid gray;box-sizing: border-box;top: 0;bottom: 0;left: 50%;z-index: -1;}#sk-container-id-2 div.sk-parallel-item {display: flex;flex-direction: column;z-index: 1;position: relative;background-color: white;}#sk-container-id-2 div.sk-parallel-item:first-child::after {align-self: flex-end;width: 50%;}#sk-container-id-2 div.sk-parallel-item:last-child::after {align-self: flex-start;width: 50%;}#sk-container-id-2 div.sk-parallel-item:only-child::after {width: 0;}#sk-container-id-2 div.sk-dashed-wrapped {border: 1px dashed gray;margin: 0 0.4em 0.5em 0.4em;box-sizing: border-box;padding-bottom: 0.4em;background-color: white;}#sk-container-id-2 div.sk-label label {font-family: monospace;font-weight: bold;display: inline-block;line-height: 1.2em;}#sk-container-id-2 div.sk-label-container {text-align: center;}#sk-container-id-2 div.sk-container {/* jupyter's `normalize.less` sets `[hidden] { display: none; }` but bootstrap.min.css set `[hidden] { display: none !important; }` so we also need the `!important` here to be able to override the default hidden behavior on the sphinx rendered scikit-learn.org. See: https://github.com/scikit-learn/scikit-learn/issues/21755 */display: inline-block !important;position: relative;}#sk-container-id-2 div.sk-text-repr-fallback {display: none;}</style><div id=\"sk-container-id-2\" class=\"sk-top-container\"><div class=\"sk-text-repr-fallback\"><pre>IterativeImputer(estimator=RandomForestRegressor(max_depth=10, max_samples=0.5,\n",
       "                                                 n_estimators=10, n_jobs=2,\n",
       "                                                 random_state=0),\n",
       "                 max_iter=50, random_state=0, tol=0.1)</pre><b>In a Jupyter environment, please rerun this cell to show the HTML representation or trust the notebook. <br />On GitHub, the HTML representation is unable to render, please try loading this page with nbviewer.org.</b></div><div class=\"sk-container\" hidden><div class=\"sk-item sk-dashed-wrapped\"><div class=\"sk-label-container\"><div class=\"sk-label sk-toggleable\"><input class=\"sk-toggleable__control sk-hidden--visually\" id=\"sk-estimator-id-4\" type=\"checkbox\" ><label for=\"sk-estimator-id-4\" class=\"sk-toggleable__label sk-toggleable__label-arrow\">IterativeImputer</label><div class=\"sk-toggleable__content\"><pre>IterativeImputer(estimator=RandomForestRegressor(max_depth=10, max_samples=0.5,\n",
       "                                                 n_estimators=10, n_jobs=2,\n",
       "                                                 random_state=0),\n",
       "                 max_iter=50, random_state=0, tol=0.1)</pre></div></div></div><div class=\"sk-parallel\"><div class=\"sk-parallel-item\"><div class=\"sk-item\"><div class=\"sk-label-container\"><div class=\"sk-label sk-toggleable\"><input class=\"sk-toggleable__control sk-hidden--visually\" id=\"sk-estimator-id-5\" type=\"checkbox\" ><label for=\"sk-estimator-id-5\" class=\"sk-toggleable__label sk-toggleable__label-arrow\">estimator: RandomForestRegressor</label><div class=\"sk-toggleable__content\"><pre>RandomForestRegressor(max_depth=10, max_samples=0.5, n_estimators=10, n_jobs=2,\n",
       "                      random_state=0)</pre></div></div></div><div class=\"sk-serial\"><div class=\"sk-item\"><div class=\"sk-estimator sk-toggleable\"><input class=\"sk-toggleable__control sk-hidden--visually\" id=\"sk-estimator-id-6\" type=\"checkbox\" ><label for=\"sk-estimator-id-6\" class=\"sk-toggleable__label sk-toggleable__label-arrow\">RandomForestRegressor</label><div class=\"sk-toggleable__content\"><pre>RandomForestRegressor(max_depth=10, max_samples=0.5, n_estimators=10, n_jobs=2,\n",
       "                      random_state=0)</pre></div></div></div></div></div></div></div></div></div></div>"
      ],
      "text/plain": [
       "IterativeImputer(estimator=RandomForestRegressor(max_depth=10, max_samples=0.5,\n",
       "                                                 n_estimators=10, n_jobs=2,\n",
       "                                                 random_state=0),\n",
       "                 max_iter=50, random_state=0, tol=0.1)"
      ]
     },
     "execution_count": 257,
     "metadata": {},
     "output_type": "execute_result"
    }
   ],
   "source": [
    "from sklearn.experimental import enable_iterative_imputer\n",
    "from sklearn.impute import IterativeImputer\n",
    "from sklearn.ensemble import RandomForestRegressor\n",
    "\n",
    "rfreg = RandomForestRegressor(\n",
    "        n_estimators=10,\n",
    "        max_depth=10,\n",
    "        bootstrap=True,\n",
    "        max_samples=0.5,\n",
    "        n_jobs=2,\n",
    "        random_state=0,)\n",
    "\n",
    "imp =  IterativeImputer(random_state=0, estimator=rfreg, max_iter=50, tol=1e-1)\n",
    "imp.fit(dfX2log)\n"
   ]
  },
  {
   "cell_type": "code",
   "execution_count": 258,
   "id": "8301516d-ddcf-4489-a509-d2979e15db32",
   "metadata": {},
   "outputs": [],
   "source": [
    "mv = imp.transform(dfX2log)"
   ]
  },
  {
   "cell_type": "code",
   "execution_count": 270,
   "id": "6c133e37-daec-4130-b06b-6912afd904ca",
   "metadata": {},
   "outputs": [],
   "source": [
    "from sklearn.impute import SimpleImputer\n",
    "impS = SimpleImputer(missing_values=np.nan, strategy='median')\n",
    "impS.fit(dfX2log)\n",
    "\n",
    "uv = impS.transform(dfX2log)"
   ]
  },
  {
   "cell_type": "code",
   "execution_count": 269,
   "id": "3167df81-ecc8-43aa-9e98-f6b8c7c2aeb4",
   "metadata": {},
   "outputs": [
    {
     "name": "stdout",
     "output_type": "stream",
     "text": [
      "market_cap                              0.000000\n",
      "employees                             548.585557\n",
      "revenue                               598.902303\n",
      "scope_1                               727.506748\n",
      "scope_2                               577.119013\n",
      "scope_3                               974.724832\n",
      "waste_production                      263.552895\n",
      "waste_recycling                        97.867891\n",
      "water_consumption                     426.122454\n",
      "water_withdrawal                      311.833637\n",
      "energy_consumption                    350.100230\n",
      "hours_of_training                     775.483174\n",
      "legal_costs_paid_for_controversies    485.058421\n",
      "ceo_compensation                       40.942201\n",
      "dtype: float64\n"
     ]
    }
   ],
   "source": [
    "print(np.sum((mv - dfY2log)**2))"
   ]
  },
  {
   "cell_type": "code",
   "execution_count": 264,
   "id": "fce7044e-95c6-4a7b-97be-fe633508f4cb",
   "metadata": {},
   "outputs": [
    {
     "name": "stdout",
     "output_type": "stream",
     "text": [
      "market_cap                              0.000000\n",
      "employees                             453.919455\n",
      "revenue                               550.112469\n",
      "scope_1                               672.242728\n",
      "scope_2                               615.271303\n",
      "scope_3                               952.564477\n",
      "waste_production                      271.323297\n",
      "waste_recycling                       142.911376\n",
      "water_consumption                     400.199121\n",
      "water_withdrawal                      354.863959\n",
      "energy_consumption                    403.780279\n",
      "hours_of_training                     815.570502\n",
      "legal_costs_paid_for_controversies    424.117967\n",
      "ceo_compensation                       67.518901\n",
      "dtype: float64\n"
     ]
    }
   ],
   "source": [
    "print(np.sum((Aimp - dfY2log)**2))"
   ]
  },
  {
   "cell_type": "code",
   "execution_count": 271,
   "id": "ecd50b98-3a95-4d28-8700-1d4a2c457d78",
   "metadata": {},
   "outputs": [
    {
     "name": "stdout",
     "output_type": "stream",
     "text": [
      "market_cap                               0.000000\n",
      "employees                             1106.888028\n",
      "revenue                               1350.687431\n",
      "scope_1                               1815.736997\n",
      "scope_2                               1339.150379\n",
      "scope_3                               1744.987822\n",
      "waste_production                       570.833345\n",
      "waste_recycling                        348.041005\n",
      "water_consumption                      849.091599\n",
      "water_withdrawal                       898.652882\n",
      "energy_consumption                     673.640169\n",
      "hours_of_training                      916.108464\n",
      "legal_costs_paid_for_controversies     716.757610\n",
      "ceo_compensation                        49.192159\n",
      "dtype: float64\n"
     ]
    }
   ],
   "source": [
    "print(np.sum((uv - dfY2log)**2))"
   ]
  },
  {
   "cell_type": "code",
   "execution_count": null,
   "id": "1062de6e-de2a-4712-bb90-ee31242918ef",
   "metadata": {},
   "outputs": [],
   "source": []
  }
 ],
 "metadata": {
  "kernelspec": {
   "display_name": "Python 3 (ipykernel)",
   "language": "python",
   "name": "python3"
  },
  "language_info": {
   "codemirror_mode": {
    "name": "ipython",
    "version": 3
   },
   "file_extension": ".py",
   "mimetype": "text/x-python",
   "name": "python",
   "nbconvert_exporter": "python",
   "pygments_lexer": "ipython3",
   "version": "3.10.10"
  }
 },
 "nbformat": 4,
 "nbformat_minor": 5
}
